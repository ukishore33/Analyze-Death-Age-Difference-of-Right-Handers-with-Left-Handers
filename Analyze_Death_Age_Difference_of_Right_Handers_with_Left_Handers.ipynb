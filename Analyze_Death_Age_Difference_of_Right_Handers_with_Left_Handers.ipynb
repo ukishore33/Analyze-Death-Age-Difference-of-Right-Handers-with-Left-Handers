{
  "nbformat": 4,
  "nbformat_minor": 0,
  "metadata": {
    "colab": {
      "provenance": [],
      "authorship_tag": "ABX9TyO8phU2DMAc43v4MszF8X7f",
      "include_colab_link": true
    },
    "kernelspec": {
      "name": "python3",
      "display_name": "Python 3"
    },
    "language_info": {
      "name": "python"
    }
  },
  "cells": [
    {
      "cell_type": "markdown",
      "metadata": {
        "id": "view-in-github",
        "colab_type": "text"
      },
      "source": [
        "<a href=\"https://colab.research.google.com/github/ukishore33/Analyze-Death-Age-Difference-of-Right-Handers-with-Left-Handers/blob/main/Analyze_Death_Age_Difference_of_Right_Handers_with_Left_Handers.ipynb\" target=\"_parent\"><img src=\"https://colab.research.google.com/assets/colab-badge.svg\" alt=\"Open In Colab\"/></a>"
      ]
    },
    {
      "cell_type": "code",
      "execution_count": null,
      "metadata": {
        "id": "UvjLZzbzfUzf"
      },
      "outputs": [],
      "source": []
    }
  ]
}